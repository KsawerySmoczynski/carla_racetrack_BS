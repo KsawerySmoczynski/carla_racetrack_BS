{
 "cells": [
  {
   "cell_type": "code",
   "execution_count": 1,
   "metadata": {},
   "outputs": [],
   "source": [
    "import carla\n",
    "import torch\n",
    "import time"
   ]
  },
  {
   "cell_type": "code",
   "execution_count": 4,
   "metadata": {},
   "outputs": [],
   "source": [
    "client = carla.Client('172.21.0.2', 2000)\n",
    "client.set_timeout(5.)"
   ]
  },
  {
   "cell_type": "code",
   "execution_count": 5,
   "metadata": {},
   "outputs": [],
   "source": [
    "world = client.load_world('RaceTrack')\n",
    "mapa = world.get_map()\n",
    "sp = mapa.get_spawn_points()\n",
    "spectator = world.get_spectator()"
   ]
  },
  {
   "cell_type": "code",
   "execution_count": 6,
   "metadata": {},
   "outputs": [],
   "source": [
    "#settings = world.get_settings()\n",
    "#settings.fixed_delta_seconds = 0.5\n",
    "#world.apply_settings(settings)"
   ]
  },
  {
   "cell_type": "code",
   "execution_count": 7,
   "metadata": {},
   "outputs": [],
   "source": [
    "blueprint_library = world.get_blueprint_library()"
   ]
  },
  {
   "cell_type": "code",
   "execution_count": 8,
   "metadata": {},
   "outputs": [
    {
     "data": {
      "text/plain": [
       "(None, False, False)"
      ]
     },
     "execution_count": 8,
     "metadata": {},
     "output_type": "execute_result"
    }
   ],
   "source": [
    "#Fun with camera\n",
    "\n",
    "camera_bp = blueprint_library.find('sensor.camera.rgb')\n",
    "vehicle = blueprint_library.filter('*bmw*')[0]\n",
    "relative_transform = carla.Transform(carla.Location(1.0, 0, 1.4), carla.Rotation(-10., 0, 0))\n",
    "i = 67\n",
    "vehicle = world.spawn_actor(vehicle, sp[i])\n",
    "spectator.set_transform(sp[i])\n",
    "camera = world.spawn_actor(camera_bp, relative_transform, attach_to=vehicle)\n",
    "vehicle.apply_control(carla.VehicleControl(throttle=0.9, steer=-0.05))\n",
    "camera.listen(lambda image: image.save_to_disk('output/%06d.png' % image.frame))\n",
    "time.sleep(6.)\n",
    "\n",
    "camera.stop(), camera.destroy(), vehicle.destroy()"
   ]
  },
  {
   "cell_type": "code",
   "execution_count": null,
   "metadata": {},
   "outputs": [],
   "source": []
  }
 ],
 "metadata": {
  "kernelspec": {
   "display_name": "Python 3",
   "language": "python",
   "name": "python3"
  },
  "language_info": {
   "codemirror_mode": {
    "name": "ipython",
    "version": 3
   },
   "file_extension": ".py",
   "mimetype": "text/x-python",
   "name": "python",
   "nbconvert_exporter": "python",
   "pygments_lexer": "ipython3",
   "version": "3.7.7"
  }
 },
 "nbformat": 4,
 "nbformat_minor": 4
}
