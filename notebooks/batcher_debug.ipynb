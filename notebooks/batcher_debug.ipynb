{
 "cells": [
  {
   "cell_type": "markdown",
   "metadata": {},
   "source": [
    "# Let's test the batcher, mon!"
   ]
  },
  {
   "cell_type": "code",
   "execution_count": 1,
   "metadata": {},
   "outputs": [],
   "source": [
    "import sys"
   ]
  },
  {
   "cell_type": "code",
   "execution_count": 2,
   "metadata": {},
   "outputs": [],
   "source": [
    "sys.path.append('../src')"
   ]
  },
  {
   "cell_type": "code",
   "execution_count": 3,
   "metadata": {},
   "outputs": [],
   "source": [
    "from batcher import Batcher"
   ]
  },
  {
   "cell_type": "code",
   "execution_count": 10,
   "metadata": {},
   "outputs": [],
   "source": [
    "batcherek = Batcher(BUFFER_SIZE = 100_000)"
   ]
  },
  {
   "cell_type": "code",
   "execution_count": 11,
   "metadata": {},
   "outputs": [
    {
     "name": "stdout",
     "output_type": "stream",
     "text": [
      "100000\n"
     ]
    },
    {
     "data": {
      "text/plain": [
       "0"
      ]
     },
     "execution_count": 11,
     "metadata": {},
     "output_type": "execute_result"
    }
   ],
   "source": [
    "print(len(batcherek.buffer))\n",
    "batcherek.buffer[0][1]"
   ]
  },
  {
   "cell_type": "code",
   "execution_count": 12,
   "metadata": {},
   "outputs": [],
   "source": [
    "batcherek.append_buffer()"
   ]
  },
  {
   "cell_type": "code",
   "execution_count": 13,
   "metadata": {},
   "outputs": [
    {
     "name": "stdout",
     "output_type": "stream",
     "text": [
      "100000\n"
     ]
    },
    {
     "data": {
      "text/plain": [
       "1"
      ]
     },
     "execution_count": 13,
     "metadata": {},
     "output_type": "execute_result"
    }
   ],
   "source": [
    "print(len(batcherek.buffer))\n",
    "batcherek.buffer[0][1]"
   ]
  },
  {
   "cell_type": "code",
   "execution_count": 16,
   "metadata": {
    "collapsed": true,
    "jupyter": {
     "outputs_hidden": true
    }
   },
   "outputs": [
    {
     "name": "stdout",
     "output_type": "stream",
     "text": [
      "2306\n",
      "../data/experiments/RaceTrack2/20200526_0334/MPCController_depth_rgb_collisions_9143/sensors/\n",
      "2496\n",
      "../data/experiments/RaceTrack/20200526_0019/MPCController_depth_rgb_collisions_536/sensors/\n",
      "3728\n",
      "../data/experiments/RaceTrack/20200525_2319/MPCController_depth_rgb_collisions_1708/sensors/\n",
      "2545\n",
      "../data/experiments/RaceTrack/20200525_2319/MPCController_depth_rgb_collisions_1708/sensors/\n",
      "81\n",
      "../data/experiments/RaceTrack/20200526_0019/MPCController_depth_rgb_collisions_8869/sensors/\n",
      "3401\n",
      "../data/experiments/RaceTrack/20200525_2319/MPCController_depth_rgb_collisions_8374/sensors/\n",
      "1827\n",
      "../data/experiments/RaceTrack/20200525_2150/MPCController_depth_rgb_collisions_364/sensors/\n",
      "1148\n",
      "../data/experiments/RaceTrack/20200525_2319/MPCController_depth_rgb_collisions_5041/sensors/\n",
      "2559\n",
      "../data/experiments/RaceTrack/20200526_0019/MPCController_depth_rgb_collisions_8869/sensors/\n",
      "3458\n",
      "../data/experiments/RaceTrack/20200526_0019/MPCController_depth_rgb_collisions_5536/sensors/\n",
      "854\n",
      "../data/experiments/RaceTrack/20200525_2150/MPCController_depth_rgb_collisions_5364/sensors/\n",
      "5736\n",
      "../data/experiments/RaceTrack/20200525_2150/MPCController_depth_rgb_collisions_2031/sensors/\n",
      "2895\n",
      "../data/experiments/RaceTrack/20200525_2150/MPCController_depth_rgb_collisions_7031/sensors/\n",
      "113\n",
      "../data/experiments/RaceTrack/20200526_0019/MPCController_depth_rgb_collisions_2203/sensors/\n",
      "3081\n",
      "../data/experiments/RaceTrack/20200525_2150/MPCController_depth_rgb_collisions_7031/sensors/\n",
      "3322\n",
      "../data/experiments/RaceTrack/20200525_2319/MPCController_depth_rgb_collisions_6708/sensors/\n",
      "2843\n",
      "../data/experiments/RaceTrack/20200526_0019/MPCController_depth_rgb_collisions_2203/sensors/\n",
      "22\n",
      "../data/experiments/RaceTrack/20200526_0019/MPCController_depth_rgb_collisions_5536/sensors/\n",
      "1955\n",
      "../data/experiments/RaceTrack2/20200526_0334/MPCController_depth_rgb_collisions_2476/sensors/\n",
      "805\n",
      "../data/experiments/RaceTrack/20200525_2319/MPCController_depth_rgb_collisions_5041/sensors/\n",
      "1592\n",
      "../data/experiments/RaceTrack/20200526_0019/MPCController_depth_rgb_collisions_2203/sensors/\n",
      "2056\n",
      "../data/experiments/RaceTrack2/20200526_0334/MPCController_depth_rgb_collisions_9143/sensors/\n",
      "2853\n",
      "../data/experiments/RaceTrack/20200525_2319/MPCController_depth_rgb_collisions_1708/sensors/\n",
      "1519\n",
      "../data/experiments/RaceTrack/20200526_0019/MPCController_depth_rgb_collisions_3869/sensors/\n",
      "1864\n",
      "../data/experiments/RaceTrack/20200526_0019/MPCController_depth_rgb_collisions_3869/sensors/\n",
      "3225\n",
      "../data/experiments/RaceTrack2/20200526_0334/MPCController_depth_rgb_collisions_810/sensors/\n",
      "3454\n",
      "../data/experiments/RaceTrack/20200525_2319/MPCController_depth_rgb_collisions_3374/sensors/\n",
      "1021\n",
      "../data/experiments/RaceTrack/20200525_2319/MPCController_depth_rgb_collisions_6708/sensors/\n",
      "2965\n",
      "../data/experiments/RaceTrack/20200526_0019/MPCController_depth_rgb_collisions_536/sensors/\n",
      "171\n",
      "../data/experiments/RaceTrack/20200525_2150/MPCController_depth_rgb_collisions_2031/sensors/\n",
      "2194\n",
      "../data/experiments/RaceTrack/20200525_2319/MPCController_depth_rgb_collisions_1708/sensors/\n",
      "322\n",
      "../data/experiments/RaceTrack/20200525_2319/MPCController_depth_rgb_collisions_41/sensors/\n"
     ]
    }
   ],
   "source": [
    "for obs in batcherek.get_batch():\n",
    "    print(obs.step)\n",
    "    print(obs.camera_data_dir)"
   ]
  },
  {
   "cell_type": "code",
   "execution_count": 15,
   "metadata": {},
   "outputs": [
    {
     "name": "stdout",
     "output_type": "stream",
     "text": [
      "2\n",
      "3\n",
      "4\n",
      "5\n",
      "6\n"
     ]
    }
   ],
   "source": [
    "for i in range(5):\n",
    "    print(batcherek.buffer[0][1])\n",
    "    batcherek.get_batch()"
   ]
  },
  {
   "cell_type": "code",
   "execution_count": 25,
   "metadata": {},
   "outputs": [
    {
     "name": "stdout",
     "output_type": "stream",
     "text": [
      "3752\n",
      "0\n"
     ]
    }
   ],
   "source": [
    "#sprawdzam czy czyta do ostatniego stepu z każdego epizodu, assert 3752, 0 xd\n",
    "print(batcherek.buffer[3744][1])\n",
    "print(batcherek.buffer[3745][1])"
   ]
  },
  {
   "cell_type": "markdown",
   "metadata": {},
   "source": [
    "# Mock neural net training session but loading consequent batches"
   ]
  },
  {
   "cell_type": "code",
   "execution_count": 4,
   "metadata": {},
   "outputs": [],
   "source": [
    "import time"
   ]
  },
  {
   "cell_type": "code",
   "execution_count": 5,
   "metadata": {},
   "outputs": [
    {
     "name": "stdout",
     "output_type": "stream",
     "text": [
      "2.1860408782958984 seconds taken to init batcher\n"
     ]
    }
   ],
   "source": [
    "t0 = time.time()\n",
    "test_batcher = Batcher(BUFFER_SIZE = 100_000)\n",
    "print(time.time()-t0, \"seconds taken to init batcher\")"
   ]
  },
  {
   "cell_type": "code",
   "execution_count": 6,
   "metadata": {},
   "outputs": [
    {
     "name": "stdout",
     "output_type": "stream",
     "text": [
      "0.06567859649658203 seconds taken to generate batch\n"
     ]
    }
   ],
   "source": [
    "t0 = time.time()\n",
    "test_batcher.get_batch()\n",
    "print(time.time()-t0, \"seconds taken to generate batch\")"
   ]
  },
  {
   "cell_type": "code",
   "execution_count": 7,
   "metadata": {},
   "outputs": [
    {
     "data": {
      "text/plain": [
       "100000"
      ]
     },
     "execution_count": 7,
     "metadata": {},
     "output_type": "execute_result"
    }
   ],
   "source": [
    "len(test_batcher.buffer)"
   ]
  },
  {
   "cell_type": "code",
   "execution_count": null,
   "metadata": {},
   "outputs": [
    {
     "name": "stdout",
     "output_type": "stream",
     "text": [
      "4.242711782455444 seconds taken to generate 100 batches\n",
      "8.453142166137695 seconds taken to generate 200 batches\n",
      "12.68346881866455 seconds taken to generate 300 batches\n",
      "16.903934478759766 seconds taken to generate 400 batches\n",
      "21.140013456344604 seconds taken to generate 500 batches\n",
      "25.426841497421265 seconds taken to generate 600 batches\n",
      "29.705472469329834 seconds taken to generate 700 batches\n",
      "33.962364196777344 seconds taken to generate 800 batches\n",
      "38.19171404838562 seconds taken to generate 900 batches\n",
      "42.42221140861511 seconds taken to generate 1000 batches\n",
      "46.67756533622742 seconds taken to generate 1100 batches\n",
      "50.86311101913452 seconds taken to generate 1200 batches\n",
      "55.10568571090698 seconds taken to generate 1300 batches\n",
      "59.54356074333191 seconds taken to generate 1400 batches\n",
      "64.01774001121521 seconds taken to generate 1500 batches\n",
      "68.31275963783264 seconds taken to generate 1600 batches\n",
      "72.63746690750122 seconds taken to generate 1700 batches\n",
      "77.0621702671051 seconds taken to generate 1800 batches\n",
      "81.4658751487732 seconds taken to generate 1900 batches\n",
      "85.8178243637085 seconds taken to generate 2000 batches\n",
      "90.23485684394836 seconds taken to generate 2100 batches\n",
      "94.62318897247314 seconds taken to generate 2200 batches\n",
      "98.90501046180725 seconds taken to generate 2300 batches\n",
      "103.32061076164246 seconds taken to generate 2400 batches\n",
      "107.5545825958252 seconds taken to generate 2500 batches\n",
      "111.90004634857178 seconds taken to generate 2600 batches\n",
      "116.23884558677673 seconds taken to generate 2700 batches\n",
      "120.53640460968018 seconds taken to generate 2800 batches\n",
      "124.85676264762878 seconds taken to generate 2900 batches\n",
      "129.12453866004944 seconds taken to generate 3000 batches\n",
      "133.44324374198914 seconds taken to generate 3100 batches\n",
      "137.7041461467743 seconds taken to generate 3200 batches\n",
      "141.9847149848938 seconds taken to generate 3300 batches\n",
      "146.25001764297485 seconds taken to generate 3400 batches\n",
      "150.51748728752136 seconds taken to generate 3500 batches\n"
     ]
    }
   ],
   "source": [
    "#load another 100_000k steps\n",
    "t0 = time.time()\n",
    "for i in range(100_000):\n",
    "    curr_batch = test_batcher.get_batch()\n",
    "    if i%100 == 99:\n",
    "        t1 = time.time()\n",
    "        print(time.time()-t0, \"seconds taken to generate {} batches\".format(i+1))\n",
    "# print(time.time()-t0, \"seconds taken to generate 100_000 batches\")"
   ]
  },
  {
   "cell_type": "code",
   "execution_count": null,
   "metadata": {},
   "outputs": [],
   "source": []
  }
 ],
 "metadata": {
  "kernelspec": {
   "display_name": "Python 3",
   "language": "python",
   "name": "python3"
  },
  "language_info": {
   "codemirror_mode": {
    "name": "ipython",
    "version": 3
   },
   "file_extension": ".py",
   "mimetype": "text/x-python",
   "name": "python",
   "nbconvert_exporter": "python",
   "pygments_lexer": "ipython3",
   "version": "3.7.7"
  }
 },
 "nbformat": 4,
 "nbformat_minor": 4
}
