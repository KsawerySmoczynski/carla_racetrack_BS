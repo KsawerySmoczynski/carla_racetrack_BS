{
 "cells": [
  {
   "cell_type": "code",
   "execution_count": 2,
   "metadata": {},
   "outputs": [],
   "source": [
    "import os\n",
    "import sys\n",
    "import time\n",
    "import math\n",
    "import pandas as pd\n",
    "import numpy as np\n",
    "\n",
    "import matplotlib.pyplot as plt\n",
    "import carla"
   ]
  },
  {
   "cell_type": "code",
   "execution_count": 10,
   "metadata": {},
   "outputs": [],
   "source": [
    "#Configs\n",
    "map_idx = 2\n",
    "MAP = ['circut_spa', 'RaceTrack', 'RaceTrack2']"
   ]
  },
  {
   "cell_type": "markdown",
   "metadata": {},
   "source": [
    "# Plan na notebook\n",
    "* Określamy kierunki pomiędzy nimi (oryginalnymi punktami)\n",
    "* Wybieramy punkty które mają być wyżej/niżej\n",
    "* Wypłaszczamy je, lub wyrównujemy -> interpolacja liniowa między skrajnie wysokim i niskim\n",
    "* Testujemy spawnując auto po drodze\n",
    "* zapisujemy jako csv\n",
    "\n",
    "# W programie\n",
    "* Obrobione pliki program będzie zaczytywał licząc kierunki ad hoc. Wyppłaszczanie -> stopnie zamienić na radiany czy coś i wtedy wypłaszczać.\n",
    "\n",
    "\n",
    " "
   ]
  },
  {
   "cell_type": "code",
   "execution_count": 4,
   "metadata": {},
   "outputs": [],
   "source": [
    "#Connecting to client\n",
    "client = carla.Client('localhost', 2000)\n",
    "client.set_timeout(5.0) # seconds"
   ]
  },
  {
   "cell_type": "code",
   "execution_count": 11,
   "metadata": {},
   "outputs": [],
   "source": [
    "# Formuła ze złota\n",
    "def direction_lookup(pointA, pointB):\n",
    "    sin_alpha = pointB[1] - pointA[1]\n",
    "    cos_alpha = pointB[0] - pointA[0]\n",
    "    \n",
    "    alpha = np.degrees(np.arctan2(sin_alpha, cos_alpha)) \n",
    "    \n",
    "    return alpha"
   ]
  },
  {
   "cell_type": "code",
   "execution_count": 12,
   "metadata": {},
   "outputs": [],
   "source": [
    "world = client.load_world(MAP[map_idx])\n",
    "blueprint_library = world.get_blueprint_library()\n",
    "vehicle = blueprint_library.filter('*aud*')[0]\n",
    "spawn_points = world.get_map().get_spawn_points()\n",
    "spectator = world.get_spectator()\n",
    "\n",
    "if MAP[map_idx] is 'circut_spa':\n",
    "    spawn_points.pop(82)\n",
    "elif MAP[map_idx] is 'RaceTrack2':\n",
    "    spawn_points.pop(153)\n",
    "elif MAP[map_idx] is 'RaceTrack':\n",
    "    spawn_points.pop(183)"
   ]
  },
  {
   "cell_type": "code",
   "execution_count": 13,
   "metadata": {},
   "outputs": [
    {
     "data": {
      "text/plain": "153"
     },
     "execution_count": 13,
     "metadata": {},
     "output_type": "execute_result"
    }
   ],
   "source": [
    "yaws = []\n",
    "for idx, sp in enumerate(spawn_points[1:]):\n",
    "    yaw = direction_lookup((spawn_points[idx].location.x, spawn_points[idx].location.y),\n",
    "                           (sp.location.x, sp.location.y))\n",
    "    yaws.append(yaw)\n",
    "    \n",
    "yaw = direction_lookup((spawn_points[-1].location.x, spawn_points[-1].location.y),\n",
    "                       (spawn_points[0].location.x, spawn_points[0].location.y))\n",
    "yaws.append(yaw)\n",
    "    \n",
    "len(yaws)"
   ]
  },
  {
   "cell_type": "markdown",
   "metadata": {},
   "source": [
    "# Vehicle check"
   ]
  },
  {
   "cell_type": "code",
   "execution_count": 14,
   "metadata": {
    "collapsed": true,
    "jupyter": {
     "outputs_hidden": true
    }
   },
   "outputs": [
    {
     "name": "stdout",
     "output_type": "stream",
     "text": [
      "Vehicle 0, 24.443956042559144, 0.6866202503442764\n",
      "Vehicle 1, 29.831097246154602, 0.7910591065883636\n",
      "Vehicle 2, 38.53020180262353, 0.8593228161334991\n",
      "Vehicle 3, 55.11392899810901, 0.9621569812297821\n",
      "Vehicle 4, 75.0973595665287, 1.082294762134552\n",
      "Vehicle 5, 89.50609024778383, 1.1575037837028503\n",
      "Vehicle 6, 105.52410383945733, 1.238535463809967\n",
      "Vehicle 7, 112.43300223865306, 1.2189466953277588\n",
      "Vehicle 8, 121.75943708823901, 1.1537968516349792\n",
      "Vehicle 9, 134.53421576413763, 1.1035924553871155\n",
      "Vehicle 10, 157.05424516899942, 1.0479546785354614\n",
      "Vehicle 11, 163.7651056266783, 0.8905927836894989\n",
      "Vehicle 12, 171.20737518148323, 0.9030797183513641\n",
      "Vehicle 13, 178.11594974528353, 0.9057003259658813\n",
      "Vehicle 14, -173.14636582434431, 0.892123818397522\n",
      "Vehicle 15, -159.20098628313983, 0.8872373998165131\n",
      "Vehicle 16, -139.81351963221965, 0.8744514286518097\n",
      "Vehicle 17, -115.07442507687595, 0.8616016805171967\n",
      "Vehicle 18, -93.53955130063231, 0.8695107102394104\n",
      "Vehicle 19, -80.24757920473019, 0.8833412230014801\n",
      "Vehicle 20, -59.85867397945325, 0.9264729917049408\n",
      "Vehicle 21, -36.02737338510361, 0.9554708302021027\n",
      "Vehicle 22, 4.351154974751466, 0.9902726113796234\n",
      "Vehicle 23, 14.788625306852472, 0.9395418763160706\n",
      "Vehicle 24, 17.730566002262712, 0.932543009519577\n",
      "Vehicle 25, 15.123953001548108, 0.947900265455246\n",
      "Vehicle 26, 12.61932437986989, 0.9736715257167816\n",
      "Vehicle 27, -2.3468741458872193, 1.019506812095642\n",
      "Vehicle 28, -21.99109240360906, 0.9905572533607483\n",
      "Vehicle 29, -60.59281075077644, 1.0426343083381653\n",
      "Vehicle 30, -77.79953966140269, 1.034077525138855\n",
      "Vehicle 31, -116.56504953783258, 1.1828832626342773\n",
      "Vehicle 32, -142.81528346901723, 1.2129836082458496\n",
      "Vehicle 33, -166.97924231828478, 1.2812350392341614\n",
      "Vehicle 34, -179.64852876509624, 1.295241355895996\n",
      "Vehicle 35, 178.34451338791345, 1.2636616230010986\n",
      "Vehicle 36, -176.92665531637132, 1.244878351688385\n",
      "Vehicle 37, -157.79652771045585, 1.2288193106651306\n",
      "Vehicle 38, -133.7455353411041, 1.224005937576294\n",
      "Vehicle 39, -122.0673859072846, 1.203545868396759\n",
      "Vehicle 40, -108.82471406388743, 1.1760883927345276\n",
      "Vehicle 41, -94.02199601783639, 1.2431843280792236\n",
      "Vehicle 42, -61.55699216376213, 1.3499844074249268\n",
      "Vehicle 43, -44.11860945045385, 1.3940191268920898\n",
      "Vehicle 44, -22.619864948040426, 1.8427668809890747\n",
      "Vehicle 45, -11.410973935142657, 3.2194955348968506\n",
      "Vehicle 46, -4.1181954095824365, 4.578482151031494\n",
      "Vehicle 47, -2.842125820299552, 5.948345184326172\n",
      "Vehicle 48, -2.1055144248757798, 7.160887718200684\n",
      "Vehicle 49, -2.3426158723505015, 7.832146644592285\n",
      "Vehicle 50, 0.0, 8.215863704681396\n",
      "Vehicle 51, 2.202592511978721, 8.267467975616455\n",
      "Vehicle 52, 5.084493322847952, 8.2897629737854\n",
      "Vehicle 53, 6.084700213428963, 8.596071243286133\n",
      "Vehicle 54, 10.234798476212383, 6.497142791748047\n",
      "Vehicle 55, 5.420609133129593, 2.7867133617401123\n",
      "Vehicle 56, -1.3972109144050666, 1.7992621660232544\n",
      "Vehicle 57, -27.149718106540984, 1.510640263557434\n",
      "Vehicle 58, -47.35329113376458, 1.3349599838256836\n",
      "Vehicle 59, -68.19857464678581, 1.2070269584655762\n",
      "Vehicle 60, -84.60000030284891, 1.0468748211860657\n",
      "Vehicle 61, -92.65740532127793, 0.8888108432292938\n",
      "Vehicle 62, -98.86666272110828, 1.3549925088882446\n",
      "Vehicle 63, -107.07102721984558, 1.580018162727356\n",
      "Vehicle 64, -120.03329556697699, 1.3734890818595886\n",
      "Vehicle 65, -131.863652161276, 0.9952321648597717\n",
      "Vehicle 66, -141.2967995131838, 0.7661972045898438\n",
      "Vehicle 67, -152.07641369755675, 0.7399121820926666\n",
      "Vehicle 68, -157.9169069081412, 0.7370064556598663\n",
      "Vehicle 69, -165.63858045542085, 0.746108204126358\n",
      "Vehicle 70, -168.5615109967877, 0.7574589550495148\n",
      "Vehicle 71, 179.10483989348606, 0.7738372385501862\n",
      "Vehicle 72, 175.60128841747917, 0.7792046368122101\n",
      "Vehicle 73, 169.9546739380249, 0.811217337846756\n",
      "Vehicle 74, 158.29455080505508, 0.8771938979625702\n",
      "Vehicle 75, 145.6993604042626, 0.9251275062561035\n",
      "Vehicle 76, 124.43897798204011, 0.9913515448570251\n",
      "Vehicle 77, 101.52725679859364, 1.017068326473236\n",
      "Vehicle 78, 96.48307425017943, 0.9773939549922943\n",
      "Vehicle 79, 77.90522248795102, 0.9777590036392212\n",
      "Vehicle 80, 65.77226632602704, 0.9559822082519531\n",
      "Vehicle 81, 57.608599293109435, 0.9511338770389557\n",
      "Vehicle 82, 71.86190339557346, 0.9586648344993591\n",
      "Vehicle 83, 75.31122937142318, 0.9194129705429077\n",
      "Vehicle 84, 97.05228839077107, 0.8909092545509338\n",
      "Vehicle 85, 118.57070218407354, 0.9147635698318481\n",
      "Vehicle 86, 134.54885969167586, 1.0036320090293884\n",
      "Vehicle 87, 152.10272053021035, 1.3602752685546875\n",
      "Vehicle 88, 170.7354829755665, 1.6520376205444336\n",
      "Vehicle 89, -172.70579336940534, 1.8580983877182007\n",
      "Vehicle 90, -165.25643716352928, 1.899801254272461\n",
      "Vehicle 91, -142.69604153062357, 1.9266564846038818\n",
      "Vehicle 92, -127.05650224555522, 1.915413737297058\n",
      "Vehicle 93, -108.03433508738051, 1.9762071371078491\n",
      "Vehicle 94, -98.87415564507214, 1.9160200357437134\n",
      "Vehicle 95, -90.16557911048902, 1.9128506183624268\n",
      "Vehicle 96, -86.25592471800284, 1.852596402168274\n",
      "Vehicle 97, -73.26643249842317, 1.8864262104034424\n",
      "Vehicle 98, -52.43141880467931, 1.6406521797180176\n",
      "Vehicle 99, -33.69004884512174, 1.532442331314087\n",
      "Vehicle 100, -14.322726480379846, 1.4772388935089111\n",
      "Vehicle 101, -9.158414683310143, 1.419032096862793\n",
      "Vehicle 102, -4.901880274381896, 1.3881301879882812\n",
      "Vehicle 103, -1.7025690830342775, 1.3492414951324463\n",
      "Vehicle 104, 0.19454901672229108, 1.3333831429481506\n",
      "Vehicle 105, 3.0483805109023, 1.335048258304596\n",
      "Vehicle 106, 9.582967423625563, 1.3489383459091187\n",
      "Vehicle 107, 15.945379405370295, 1.3285793662071228\n",
      "Vehicle 108, 27.155708298816684, 1.3384429216384888\n",
      "Vehicle 109, 34.76182336446651, 1.2886484861373901\n",
      "Vehicle 110, 44.44908329112961, 1.2468186616897583\n",
      "Vehicle 111, 60.17289779941755, 1.2056615948677063\n",
      "Vehicle 112, 74.37578507272774, 1.0781015157699585\n",
      "Vehicle 113, 82.82273502432098, 0.9414443075656891\n",
      "Vehicle 114, 90.52086829530148, 0.9363692104816437\n",
      "Vehicle 115, 92.59764249854372, 0.7838319838047028\n",
      "Vehicle 116, 96.85707811649853, 0.6821403801441193\n",
      "Vehicle 117, 106.82141891572971, 0.7007300555706024\n",
      "Vehicle 118, 114.66377956596199, 0.7198940217494965\n",
      "Vehicle 119, 122.08883717310853, 0.7722491323947906\n",
      "Vehicle 120, 129.35175959640048, 0.8383338153362274\n",
      "Vehicle 121, 149.14233695799797, 0.9617964923381805\n",
      "Vehicle 122, 168.92981201302516, 1.047338843345642\n",
      "Vehicle 123, -163.97973738903352, 1.092415452003479\n",
      "Vehicle 124, -148.64840430251672, 0.9873831868171692\n",
      "Vehicle 125, -141.37816540385273, 0.9077286720275879\n",
      "Vehicle 126, -128.40938739747887, 0.9621376693248749\n",
      "Vehicle 127, -112.69958881526412, 1.00938218832016\n",
      "Vehicle 128, -85.777761471076, 1.0611194372177124\n",
      "Vehicle 129, -64.6284386261945, 0.9906366765499115\n",
      "Vehicle 130, -44.668819177336566, 1.0681571960449219\n",
      "Vehicle 131, -39.76613595304114, 1.132477045059204\n",
      "Vehicle 132, -42.65587088389343, 1.2419641017913818\n",
      "Vehicle 133, -60.3092767878594, 1.3589431643486023\n",
      "Vehicle 134, -88.57971983279836, 1.4225066900253296\n",
      "Vehicle 135, -112.94357198420174, 1.3761972784996033\n",
      "Vehicle 136, -135.44414400627642, 1.3393107652664185\n",
      "Vehicle 137, -146.2331243777291, 1.2856983542442322\n",
      "Vehicle 138, -159.03893632645637, 1.2473737001419067\n",
      "Vehicle 139, -171.0273744591384, 1.2001924514770508\n",
      "Vehicle 140, -178.58207722208093, 1.153584599494934\n",
      "Vehicle 141, 171.2309385320835, 1.1230633854866028\n",
      "Vehicle 142, 162.1081230088629, 1.0985016822814941\n",
      "Vehicle 143, 142.15182917043398, 1.1106341481208801\n",
      "Vehicle 144, 132.776032665478, 1.053942859172821\n",
      "Vehicle 145, 124.99202019855868, 1.0267608761787415\n",
      "Vehicle 146, 113.80594589245563, 1.0236534476280212\n",
      "Vehicle 147, 90.41220213017182, 1.0110981464385986\n",
      "Vehicle 148, 76.84244729815376, 0.9358510971069336\n",
      "Vehicle 149, 63.0939117710632, 0.895036906003952\n",
      "Vehicle 150, 52.93276133920785, 0.840892493724823\n",
      "Vehicle 151, 41.94128997995496, 0.774826854467392\n",
      "Vehicle 152, 28.217356722305315, 0.7039316892623901\n"
     ]
    }
   ],
   "source": [
    "z = []\n",
    "\n",
    "# i = np.random.randint(0, high=len(spawn_points))\n",
    "# i = 150\n",
    "\n",
    "# for idx, (spawn, yaw) in enumerate(zip(spawn_points[i:i+6], yaws[i:i+6])):\n",
    "for idx, (spawn, yaw) in enumerate(zip(spawn_points, yaws)):\n",
    "    location = spawn.location\n",
    "    rotation = carla.Rotation(spawn.rotation.pitch, float(yaw), spawn.rotation.roll)\n",
    "    spawn = carla.Transform(location, rotation)\n",
    "    actor = world.spawn_actor(vehicle, spawn)\n",
    "    actor.apply_control(carla.VehicleControl(brake=1, hand_brake=True))\n",
    "    time.sleep(1.5)\n",
    "    actor_z = actor.get_location().z\n",
    "    print(f'Vehicle {idx}, {yaw}, {actor_z+.5}')\n",
    "    z.append(actor_z+0.5)\n",
    "\n",
    "    if idx % 3 == 0:\n",
    "        spec_loc = carla.Location(spawn.location.x, spawn.location.y, spawn.location.z+6)\n",
    "        spec_rot = carla.Rotation(spawn.rotation.pitch-7., float(yaw), 0.)\n",
    "        spectator.set_transform(carla.Transform(spec_loc, spec_rot))\n",
    "\n",
    "\n",
    "    actor.destroy()"
   ]
  },
  {
   "cell_type": "code",
   "execution_count": 15,
   "metadata": {},
   "outputs": [
    {
     "data": {
      "text/plain": "153"
     },
     "execution_count": 15,
     "metadata": {},
     "output_type": "execute_result"
    }
   ],
   "source": [
    "spawn_points_df = pd.DataFrame().from_dict({idx: (sp.location.x, sp.location.y, sp.location.z)\n",
    "                                            for idx, sp in enumerate(spawn_points)}).T\n",
    "\n",
    "spawn_points_df.rename(columns={0:'x', 1:'y', 2:'z'}, inplace=True)\n",
    "spawn_points_df['yaw'] = yaws\n",
    "spawn_points_df['z'] = z\n",
    "spawn_points_df.shape\n",
    "\n",
    "spawn_points_df.to_csv(f'../data/spawn_points/{MAP[map_idx]}.csv', index=False)\n",
    "len(spawn_points)"
   ]
  },
  {
   "cell_type": "code",
   "execution_count": null,
   "metadata": {},
   "outputs": [],
   "source": []
  }
 ],
 "metadata": {
  "kernelspec": {
   "name": "carla",
   "language": "python",
   "display_name": "carla"
  },
  "language_info": {
   "codemirror_mode": {
    "name": "ipython",
    "version": 3
   },
   "file_extension": ".py",
   "mimetype": "text/x-python",
   "name": "python",
   "nbconvert_exporter": "python",
   "pygments_lexer": "ipython3",
   "version": "3.7.7"
  }
 },
 "nbformat": 4,
 "nbformat_minor": 4
}